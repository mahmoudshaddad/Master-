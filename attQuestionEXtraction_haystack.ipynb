{
 "cells": [
  {
   "cell_type": "code",
   "execution_count": 1,
   "metadata": {},
   "outputs": [],
   "source": [
    "# !pip install googletrans==3.1.0a0 # for the translation \n",
    "# !pip install farm-haystack # for the QuestionGenerator"
   ]
  },
  {
   "cell_type": "markdown",
   "metadata": {},
   "source": [
    "### - Loading the Data"
   ]
  },
  {
   "cell_type": "code",
   "execution_count": 8,
   "metadata": {},
   "outputs": [
    {
     "data": {
      "text/plain": [
       "'DIN 1045-101'"
      ]
     },
     "execution_count": 8,
     "metadata": {},
     "output_type": "execute_result"
    }
   ],
   "source": [
    "import json\n",
    "import datetime\n",
    "\n",
    "now = datetime.datetime.now()\n",
    "# File path\n",
    "file_path = r\"C:\\A\\00Master\\Demo\\data acc\\att\\output\\DIN 1045-101\" # Replace with the  file path\n",
    "\n",
    "# Initialize an empty list to hold the data\n",
    "data = []\n",
    "\n",
    "# Read the JSONL file line by line\n",
    "with open(file_path, 'r') as file:\n",
    "    for line in file:\n",
    "        # Decode each line as a separate JSON object\n",
    "        json_object = json.loads(line)\n",
    "        data.append(json_object)\n",
    "\n",
    "# Now, 'data' is a list of dictionaries loaded from each line of the JSONL file\n",
    "import os\n",
    "def extract_file_name_without_extension(file_path):\n",
    "    # Extract the file name from the file path\n",
    "    file_name_with_extension = os.path.basename(file_path)\n",
    "    # Split the file name and the extension\n",
    "    file_name_without_extension, _ = os.path.splitext(file_name_with_extension)\n",
    "    return file_name_without_extension\n",
    "\n",
    "filename = extract_file_name_without_extension(file_path)\n",
    "filename"
   ]
  },
  {
   "cell_type": "markdown",
   "metadata": {},
   "source": [
    "### -   prepare the data to the model"
   ]
  },
  {
   "cell_type": "code",
   "execution_count": 9,
   "metadata": {},
   "outputs": [
    {
     "name": "stdout",
     "output_type": "stream",
     "text": [
      "[{'DIN 1045-101_page_0-0': 'ICS Bemessung Konstruktion Stahlbeton Spannbetontragwerken Teil Konformitätsnachweis Design of concrete structures Part Evaluation of Conformity for brick floors in accordance with Calcul des structures en ton Partie Evaluation de la conformite pour plancher en briques conforme Gesamtumfang Seiten DINNormenausschuss Bauwesen NABau © Deutsches Institut Normung Jede Artder Vervielfältigung auch auszugsweise Berlin gestattet une IIINIIHINIININN'}, {'DIN 1045-101_page_2-0': 'Vorwort Dieses Dokument wurde den Arbeitsausschüssen NA AA „Bemessung Konstruktion“ NA AA „Mauerwerksbau“ des DINNormenausschusses Bauwesen NABau erarbeitet Es wird auf Möglichkeit hingewiesen dass einige Elemente dieses Dokuments Patentrechte berühren können ist nicht dafür verantwortlich einige oder alle diesbezüglichen Patentrechte identifizieren Die Normenreihe Tragwerke aus Beton Stahlbeton Spannbeton besteht aus DIN1045 Tragwerke aus Beton Stahlbeton Spannbeton— Teil2 Beton Festlegung Eigenschaften Herstellung Konformität Anwendungsregeln EN DIN1045 Tragwerke aus Beton Stahlbeton Spannbeton Teil3 Bauausführung Anwendungsregeln EN Tragwerke aus Beton Stahlbeton Spannbeton Teil4 Ergänzende Regeln Herstellung Konformität Fertigteilen Bemessung Konstruktion Stahlbeton Spannbetontragwerken Teil Bemessung Konstruktion Stahlbeton Spannbetontragwerken Teil ® Konformitätsnachweis dieser Teil'}, {'DIN 1045-101_page_3-0': 'Anwendungsbereich Diese Norm legt Anforderungen Festlegungen an Konformitätsbewertung fest Normative Verweisungen Die folgenden Dokumente in diesem Dokument teilweise oder als Ganzes zitiert werden sind Anwendung dieses Dokuments erforderlich Bei datierten Verweisungen gilt nur in Bezug genommene Ausgabe Bei undatierten Verweisungen gilt letzte Ausgabe des in Bezug genommenen Dokuments einschließlich aller Änderungen alle Teile Betonstahl Tragwerke aus Beton Stahlbeton Spannbeton Teil Beton Festlegung Eigenschaften Herstellung Konformität Anwendungsregeln EN Tragwerke aus Beton Stahlbeton Spannbeton Teil3 Bauausführung Anwendungsregeln EN Tragwerke aus Beton Stahlbeton Spannbeton Teil4 Ergänzende Regeln Herstellung Konformität Fertigteilen Bemessung Konstruktion Stahlbeton Spannbetontragwerken Teil Ziegel Vergusstafeln statisch mitwirkend Übereinstimmungsnachweise Bauprodukte Werkseigene Produktionskontrolle Fremd überwachung Zertifizierung Produkten “ EN Beton Teil Festlegung Eigenschaften Herstellung Konformität EN Eurocode2 Bemessung Konstruktion Stahlbeton Spann betontragwerken Teil Allgemeine Bemessungsregeln Regeln den Hochbau EN NA Nationaler Anhang National festgelegte Parameter— Eurocode Bemessung Konstruktion Stahlbeton Spannbetontragwerken Teil1 Allgemeine Bemessungsregeln Regeln den Hochbau mit EN NAA1 AlÄnderung Begriffe Für Anwendung dieses Dokuments gelten Begriffe EN mit dem Nationalen Anhang EN NA'}, {'DIN 1045-101_page_3-1': 'Teil1 Allgemeine Bemessungsregeln Regeln den Hochbau mit EN NAA1 AlÄnderung Begriffe Für Anwendung dieses Dokuments gelten Begriffe EN mit dem Nationalen Anhang EN NA folgende Begriff Ziegeldecke Decke aus Deckenziegeln Beton Betonstahl bei das Zusammenwirken genannten Baustoffe zur Aufnahme Schnittgrößen erforderlich ist'}, {'DIN 1045-101_page_4-0': 'Überwachung Herstellung OrtbetonZiegeldecken Die Überwachung Herstellung OrtbetonZiegeldecken erfolgt durch das Bauunternehmen Beim Einbau Beton Überwachungsklassen gelten Überwachungsanforderungen Anhänge NC ND Die Überwachung muss sicherstellen dass Bauausführung in Übereinstimmung mit den Ausführungsunterlagen erfolgt Für Durchführung gilt Anhang NA bis ND sinngemäß Die zur Herstellung verwendeten Bauprodukte sind dokumentieren Es dürfen nur Bauprodukte verwendet werden mit dem Übereinstimmungszeichen gekennzeichnet sind Übereinstimmungsnachweis vorgefertigte Allgemeines In jedem Herstellwerk in dem Fertigteile dieser Norm hergestellt werden sind Herstellung werkseigene Produktionskontrolle durch eine anerkannte Überwachungsstelle überwachen Konformität Fertigteile ist durch eine anerkannte Zertifizierungsstelle zertifizieren Die Aufgaben anerkannten Stellen bei Überwachung Herstellung werkseigenen Produktionskontrolle ergeben sich im Allgemeinen aus Herstellung des Betons im Besonderen aus EN in Verbindung mit Werkseigene Produktionskontrolle Allgemeines In jedem Herstellwerk ist eine werkseigene Produktionskontrolle einzurichten durchzuführen Unter werkseigener Produktionskontrolle wird vom Hersteller vorzunehmende kontinuierliche Überwachung Produktion verstanden mit dieser sicherstellt dass ihm hergestellten Bauprodukte den Bestimmungen dieser Norm entsprechen Die Kontrollen sind entsprechend dokumentieren Durchführung Der Umfang werkseigenen Produktionskontrolle vorgefertigte dieser Norm ist'}, {'DIN 1045-101_page_4-1': 'ihm hergestellten Bauprodukte den Bestimmungen dieser Norm entsprechen Die Kontrollen sind entsprechend dokumentieren Durchführung Der Umfang werkseigenen Produktionskontrolle vorgefertigte dieser Norm ist in Anlehnung an mit überwachenden Stelle abzustimmen Für Durchführung werkseigenen Produktionskontrolle ist Hersteller verantwortlich Er muss über geeignetes Fachpersonal Einrichtungen Geräte verfügen Er hat jedes Herstellwerk einen Verantwortlichen benennen Wesentliche Änderungen Produktion sind Überwachungsstelle mitzuteilen Für den Beton gelten Bestimmungen EN in Verbindung mit Ausgangsstoffe Zwischenprodukte Die zur Herstellung verwendeten Bauprodukte sind dokumentieren Es dürfen nur Bauprodukte verwendet werden mit dem Übereinstimmungszeichen gekennzeichnet sind Für Art Umfang Prüfungen gilt Die Verwendbarkeitsnachweise erfolgen auf Basis Deckenziegel EN Beton sowie Normenreihe Betonstahl'}, {'DIN 1045-101_page_5-0': 'Endprodukte Die Endprodukte sind auf Übereinstimmung mit den Angaben bautechnischen Unterlagen gegebenenfalls unter Berücksichtigung Ergebnisse Prüfung Bauvorlagen prüfen Bei ungenügenden Prüfungsergebnissen sind vom Hersteller unverzüglich erforderlichen Maßnahmen zur Abstellung des Mangels treffen den Anforderungen dieser Norm nicht entsprechen sind Verwendung auszuschließen besonders kennzeichnen Nach Abstellung des Mangels ist soweit technisch möglich zum Nachweis Mangelbeseitigung erforderlich betreffende Prüfung unverzüglich wiederholen Aufzeichnungen Die Ergebnisse werkseigenen Produktionskontrolle sind hinsichtlich Ausgangsstoffe Zwischen produkte Endprodukte aufzuzeichnen auszuwerten Die Aufzeichnungen müssen mindestens folgende Angaben enthalten Wesentliche Eigenschaften verwendeten Baustoffe den Namen Lieferwerke Nummern Lieferscheine Herstelltag Ergebnisse Frischbetonuntersuchungen Konsistenz Rohdichte Zusammensetzung Betonprobekörper mit ihrer Bezeichnung dem Tag Herstellung Angabe einzelnen Beton verwendet wurde das Datum Ergebnisse Prüfung geforderte Festigkeitsklasse Unterschrift des werkseigene Produktionskontrolle Verantwortlichen £ Die Aufzeichnungen sind ebenso wie Lieferscheine 5Jahre aufzubewahren Überwachungsstelle auf Verlangen vorzuzeigen Fremdüberwachung Erstüberwachung Vor Aufnahme Regelüberwachung hat Überwachungsstelle eine vollständige Überwachung vom gleichen Umfang wie bei Regelüberwachung durchzuführen festzustellen ob den Anforderungen'}, {'DIN 1045-101_page_5-1': 'Vor Aufnahme Regelüberwachung hat Überwachungsstelle eine vollständige Überwachung vom gleichen Umfang wie bei Regelüberwachung durchzuführen festzustellen ob den Anforderungen dieser Norm entsprechen Sie hat sich auch davon überzeugen dass personellen gerätemäßigen Voraussetzungen eine ständige ordnungsgemäße Herstellung eine entsprechende werkseigene Produktionskontrolle geeignet erscheinen Regelüberwachung Für Regelüberwachung gelten Festlegungen in Verbindung mit Dabei ist gegebenenfalls auch festzustellen ob ständige Betonprüfstelle Anforderungen NC erfüllt'}, {'DIN 1045-101_page_6-0': 'Sonderüberwachung Über Durchführung Art Umfang Sonderüberwachungen entscheidet Überwachungsstelle gegebenenfalls Absprache mit Zertifizierungsstelle Sonderüberwachungen finden statt Nichtbestehen einer Regelüberwachung Ruhen Produktion über einen Zeitraum mehr als Monaten aufAntrag des Herstellers aufzu begründende Anordnung Überwachungsstelle oder Zertifizierungsstelle Zertifizierung Übereinstimmung Die Übereinstimmung mit dieser Norm ist zertifizieren durch ein Übereinstimmungszertifikat belegen Kennzeichnung Zusätzlich den Festlegungen in ist das Übereinstimmungszeichen anzubringen Lieferscheine Zusätzlich den Festlegungen in ist auf dem Lieferschein das Überein stimmungszeichen anzugeben Die Angabe den Verwendungszweck wesentlichen Merkmale erfolgt durch Angabe Typ Positionsnummer ÜbereinstimmungszeichenVerordnungen des jeweiligen Landes'}]\n"
     ]
    }
   ],
   "source": [
    "\n",
    "\n",
    "# Initialize an empty list to store items without 'table' in any key\n",
    "non_table_items = []\n",
    "\n",
    "# Iterate over each item in the data\n",
    "for item in data:\n",
    "    # Check if the item is a dictionary\n",
    "    if isinstance(item, dict):\n",
    "        # Assume the item does not have 'table' in keys, until proven otherwise\n",
    "        has_table = False\n",
    "\n",
    "        # Iterate over each key in the dictionary\n",
    "        for key in item.keys():\n",
    "            # Check if 'table' is in the key\n",
    "            if 'table' in key:\n",
    "                # If yes, set has_table to True and break the loop\n",
    "                has_table = True\n",
    "                break\n",
    "\n",
    "        # If the item does not have 'table' in any key, add it to the list\n",
    "        if not has_table:\n",
    "            non_table_items.append(item)\n",
    "\n",
    "# non_table_items now contains all items without 'table' in their keys\n",
    "print(non_table_items)\n",
    "data=non_table_items\n",
    "\n",
    "all_values = []\n",
    "\n",
    "# Iterate through each dictionary in the list\n",
    "for d in data:\n",
    "    # Iterate through each key-value pair in the dictionary\n",
    "    for key, value in d.items():\n",
    "        # Add the value to the list\n",
    "        all_values.append(value)\n",
    "all_values"
   ]
  },
  {
   "cell_type": "markdown",
   "metadata": {},
   "source": [
    "### - \tQuestion And Answer Generation (QAG)"
   ]
  },
  {
   "cell_type": "code",
   "execution_count": 15,
   "metadata": {},
   "outputs": [
    {
     "name": "stderr",
     "output_type": "stream",
     "text": [
      "Special tokens have been added in the vocabulary, make sure the associated word embeddings are fine-tuned or trained.\n",
      "Special tokens have been added in the vocabulary, make sure the associated word embeddings are fine-tuned or trained.\n"
     ]
    },
    {
     "name": "stdout",
     "output_type": "stream",
     "text": [
      "Question: Was macht Nabau Deutsches Institut Normung Jede Artder Vervielfältigung Auch Ausugsweise Berlin Gestattet une iiiniihiniininn?, Text: ICS Bemessung Konstruktion Stahlbeton Spannbetontragwerken Teil Konformitätsnachweis Design of concrete structures Part Evaluation of Conformity for brick floors in accordance with Calcul des structures en ton Partie Evaluation de la conformite pour plancher en briques conforme Gesamtumfang Seiten DINNormenausschuss Bauwesen NABau © Deutsches Institut Normung Jede Artder Vervielfältigung auch auszugsweise Berlin gestattet une IIINIIHINIININN\n",
      "Question: Wofür steht na aa?, Text: Vorwort Dieses Dokument wurde den Arbeitsausschüssen NA AA „Bemessung Konstruktion“ NA AA „Mauerwerksbau“ des DINNormenausschusses Bauwesen NABau erarbeitet Es wird auf Möglichkeit hingewiesen dass einige Elemente dieses Dokuments Patentrechte berühren können ist nicht dafür verantwortlich einige oder alle diesbezüglichen Patentrechte identifizieren Die Normenreihe Tragwerke aus Beton Stahlbeton Spannbeton besteht aus DIN1045 Tragwerke aus Beton Stahlbeton Spannbeton— Teil2 Beton Festlegung Eigenschaften Herstellung Konformität Anwendungsregeln EN DIN1045 Tragwerke aus Beton Stahlbeton Spannbeton Teil3 Bauausführung Anwendungsregeln EN Tragwerke aus Beton Stahlbeton Spannbeton Teil4 Ergänzende Regeln Herstellung Konformität Fertigteilen Bemessung Konstruktion Stahlbeton Spannbetontragwerken Teil Bemessung Konstruktion Stahlbeton Spannbetontragwerken Teil ® Konformitätsnachweis dieser Teil\n",
      "Question: Wie heißt der Teil der Normenreihe Tragwerke aus Beton Stahlbeton Spannbetons?, Text: Vorwort Dieses Dokument wurde den Arbeitsausschüssen NA AA „Bemessung Konstruktion“ NA AA „Mauerwerksbau“ des DINNormenausschusses Bauwesen NABau erarbeitet Es wird auf Möglichkeit hingewiesen dass einige Elemente dieses Dokuments Patentrechte berühren können ist nicht dafür verantwortlich einige oder alle diesbezüglichen Patentrechte identifizieren Die Normenreihe Tragwerke aus Beton Stahlbeton Spannbeton besteht aus DIN1045 Tragwerke aus Beton Stahlbeton Spannbeton— Teil2 Beton Festlegung Eigenschaften Herstellung Konformität Anwendungsregeln EN DIN1045 Tragwerke aus Beton Stahlbeton Spannbeton Teil3 Bauausführung Anwendungsregeln EN Tragwerke aus Beton Stahlbeton Spannbeton Teil4 Ergänzende Regeln Herstellung Konformität Fertigteilen Bemessung Konstruktion Stahlbeton Spannbetontragwerken Teil Bemessung Konstruktion Stahlbeton Spannbetontragwerken Teil ® Konformitätsnachweis dieser Teil\n",
      "Question: Welches Legt anforderungen Festlegungs ein Konformitais -Fest normativ Verweisungen?, Text: Anwendungsbereich Diese Norm legt Anforderungen Festlegungen an Konformitätsbewertung fest Normative Verweisungen Die folgenden Dokumente in diesem Dokument teilweise oder als Ganzes zitiert werden sind Anwendung dieses Dokuments erforderlich Bei datierten Verweisungen gilt nur in Bezug genommene Ausgabe Bei undatierten Verweisungen gilt letzte Ausgabe des in Bezug genommenen Dokuments einschließlich aller Änderungen alle Teile Betonstahl Tragwerke aus Beton Stahlbeton Spannbeton Teil Beton Festlegung Eigenschaften Herstellung Konformität Anwendungsregeln EN Tragwerke aus Beton Stahlbeton Spannbeton Teil3 Bauausführung Anwendungsregeln EN Tragwerke aus Beton Stahlbeton Spannbeton Teil4 Ergänzende Regeln Herstellung Konformität Fertigteilen Bemessung Konstruktion Stahlbeton Spannbetontragwerken Teil Ziegel Vergusstafeln statisch mitwirkend Übereinstimmungsnachweise Bauprodukte Werkseigene Produktionskontrolle Fremd überwachung Zertifizierung Produkten “ EN Beton Teil Festlegung Eigenschaften Herstellung Konformität EN Eurocode2 Bemessung Konstruktion Stahlbeton Spann betontragwerken Teil Allgemeine Bemessungsregeln Regeln den Hochbau EN NA Nationaler Anhang National festgelegte Parameter— Eurocode Bemessung Konstruktion Stahlbeton Spannbetontragwerken Teil1 Allgemeine Bemessungsregeln Regeln den Hochbau mit EN NAA1 AlÄnderung Begriffe Für Anwendung dieses Dokuments gelten Begriffe EN mit dem Nationalen Anhang EN NA\n",
      "Question: Was ist der letzte Ausgabe des in Beduug genommenen Dokuments Einschlandlich Aller Nderungen reiner Betonstahl Tragwerke aus Beton Stahlbeton Spannbeton Teil Beton Festlegung Egenschaftten Holitungung Konformitatton AnwendungsregelnEregelnEregelnEregelnEregelnEregelnEregelnEregelnEregelnEregelnEregelnEregelnEregelnEregelnEnteregeln, Text: Anwendungsbereich Diese Norm legt Anforderungen Festlegungen an Konformitätsbewertung fest Normative Verweisungen Die folgenden Dokumente in diesem Dokument teilweise oder als Ganzes zitiert werden sind Anwendung dieses Dokuments erforderlich Bei datierten Verweisungen gilt nur in Bezug genommene Ausgabe Bei undatierten Verweisungen gilt letzte Ausgabe des in Bezug genommenen Dokuments einschließlich aller Änderungen alle Teile Betonstahl Tragwerke aus Beton Stahlbeton Spannbeton Teil Beton Festlegung Eigenschaften Herstellung Konformität Anwendungsregeln EN Tragwerke aus Beton Stahlbeton Spannbeton Teil3 Bauausführung Anwendungsregeln EN Tragwerke aus Beton Stahlbeton Spannbeton Teil4 Ergänzende Regeln Herstellung Konformität Fertigteilen Bemessung Konstruktion Stahlbeton Spannbetontragwerken Teil Ziegel Vergusstafeln statisch mitwirkend Übereinstimmungsnachweise Bauprodukte Werkseigene Produktionskontrolle Fremd überwachung Zertifizierung Produkten “ EN Beton Teil Festlegung Eigenschaften Herstellung Konformität EN Eurocode2 Bemessung Konstruktion Stahlbeton Spann betontragwerken Teil Allgemeine Bemessungsregeln Regeln den Hochbau EN NA Nationaler Anhang National festgelegte Parameter— Eurocode Bemessung Konstruktion Stahlbeton Spannbetontragwerken Teil1 Allgemeine Bemessungsregeln Regeln den Hochbau mit EN NAA1 AlÄnderung Begriffe Für Anwendung dieses Dokuments gelten Begriffe EN mit dem Nationalen Anhang EN NA\n",
      "Question: Wie heißt der Spannbeton teil4 Ergänzende Regeln Hersteer Konformität Fertalteilen Bemessung Konstrukion Stahlbetons span betontragwerken teil ziegel vergusstafel überwachung zertifizierung produkte?, Text: Anwendungsbereich Diese Norm legt Anforderungen Festlegungen an Konformitätsbewertung fest Normative Verweisungen Die folgenden Dokumente in diesem Dokument teilweise oder als Ganzes zitiert werden sind Anwendung dieses Dokuments erforderlich Bei datierten Verweisungen gilt nur in Bezug genommene Ausgabe Bei undatierten Verweisungen gilt letzte Ausgabe des in Bezug genommenen Dokuments einschließlich aller Änderungen alle Teile Betonstahl Tragwerke aus Beton Stahlbeton Spannbeton Teil Beton Festlegung Eigenschaften Herstellung Konformität Anwendungsregeln EN Tragwerke aus Beton Stahlbeton Spannbeton Teil3 Bauausführung Anwendungsregeln EN Tragwerke aus Beton Stahlbeton Spannbeton Teil4 Ergänzende Regeln Herstellung Konformität Fertigteilen Bemessung Konstruktion Stahlbeton Spannbetontragwerken Teil Ziegel Vergusstafeln statisch mitwirkend Übereinstimmungsnachweise Bauprodukte Werkseigene Produktionskontrolle Fremd überwachung Zertifizierung Produkten “ EN Beton Teil Festlegung Eigenschaften Herstellung Konformität EN Eurocode2 Bemessung Konstruktion Stahlbeton Spann betontragwerken Teil Allgemeine Bemessungsregeln Regeln den Hochbau EN NA Nationaler Anhang National festgelegte Parameter— Eurocode Bemessung Konstruktion Stahlbeton Spannbetontragwerken Teil1 Allgemeine Bemessungsregeln Regeln den Hochbau mit EN NAA1 AlÄnderung Begriffe Für Anwendung dieses Dokuments gelten Begriffe EN mit dem Nationalen Anhang EN NA\n",
      "Question: Was ist Teil1 Generale Bemessungsregeln Regeln Den Hochbau Mit en naa1 Alnderung Begriffe fürwendung stirbt Dokument E Schnittgrößen Erforderlich ist?, Text: Teil1 Allgemeine Bemessungsregeln Regeln den Hochbau mit EN NAA1 AlÄnderung Begriffe Für Anwendung dieses Dokuments gelten Begriffe EN mit dem Nationalen Anhang EN NA folgende Begriff Ziegeldecke Decke aus Deckenziegeln Beton Betonstahl bei das Zusammenwirken genannten Baustoffe zur Aufnahme Schnittgrößen erforderlich ist\n",
      "Question: Wie ist ein Werkseigene Produkionskontrolle Einzurchen?, Text: Überwachung Herstellung OrtbetonZiegeldecken Die Überwachung Herstellung OrtbetonZiegeldecken erfolgt durch das Bauunternehmen Beim Einbau Beton Überwachungsklassen gelten Überwachungsanforderungen Anhänge NC ND Die Überwachung muss sicherstellen dass Bauausführung in Übereinstimmung mit den Ausführungsunterlagen erfolgt Für Durchführung gilt Anhang NA bis ND sinngemäß Die zur Herstellung verwendeten Bauprodukte sind dokumentieren Es dürfen nur Bauprodukte verwendet werden mit dem Übereinstimmungszeichen gekennzeichnet sind Übereinstimmungsnachweis vorgefertigte Allgemeines In jedem Herstellwerk in dem Fertigteile dieser Norm hergestellt werden sind Herstellung werkseigene Produktionskontrolle durch eine anerkannte Überwachungsstelle überwachen Konformität Fertigteile ist durch eine anerkannte Zertifizierungsstelle zertifizieren Die Aufgaben anerkannten Stellen bei Überwachung Herstellung werkseigenen Produktionskontrolle ergeben sich im Allgemeinen aus Herstellung des Betons im Besonderen aus EN in Verbindung mit Werkseigene Produktionskontrolle Allgemeines In jedem Herstellwerk ist eine werkseigene Produktionskontrolle einzurichten durchzuführen Unter werkseigener Produktionskontrolle wird vom Hersteller vorzunehmende kontinuierliche Überwachung Produktion verstanden mit dieser sicherstellt dass ihm hergestellten Bauprodukte den Bestimmungen dieser Norm entsprechen Die Kontrollen sind entsprechend dokumentieren Durchführung Der Umfang werkseigenen Produktionskontrolle vorgefertigte dieser Norm ist\n",
      "Question: Wie stellt ein Hersteller sicher, dass seine hergestellten Bauprodukte Den BESTIMMUNGEN -DIESER NORMSPREPPENEN?, Text: Überwachung Herstellung OrtbetonZiegeldecken Die Überwachung Herstellung OrtbetonZiegeldecken erfolgt durch das Bauunternehmen Beim Einbau Beton Überwachungsklassen gelten Überwachungsanforderungen Anhänge NC ND Die Überwachung muss sicherstellen dass Bauausführung in Übereinstimmung mit den Ausführungsunterlagen erfolgt Für Durchführung gilt Anhang NA bis ND sinngemäß Die zur Herstellung verwendeten Bauprodukte sind dokumentieren Es dürfen nur Bauprodukte verwendet werden mit dem Übereinstimmungszeichen gekennzeichnet sind Übereinstimmungsnachweis vorgefertigte Allgemeines In jedem Herstellwerk in dem Fertigteile dieser Norm hergestellt werden sind Herstellung werkseigene Produktionskontrolle durch eine anerkannte Überwachungsstelle überwachen Konformität Fertigteile ist durch eine anerkannte Zertifizierungsstelle zertifizieren Die Aufgaben anerkannten Stellen bei Überwachung Herstellung werkseigenen Produktionskontrolle ergeben sich im Allgemeinen aus Herstellung des Betons im Besonderen aus EN in Verbindung mit Werkseigene Produktionskontrolle Allgemeines In jedem Herstellwerk ist eine werkseigene Produktionskontrolle einzurichten durchzuführen Unter werkseigener Produktionskontrolle wird vom Hersteller vorzunehmende kontinuierliche Überwachung Produktion verstanden mit dieser sicherstellt dass ihm hergestellten Bauprodukte den Bestimmungen dieser Norm entsprechen Die Kontrollen sind entsprechend dokumentieren Durchführung Der Umfang werkseigenen Produktionskontrolle vorgefertigte dieser Norm ist\n",
      "Question: Was muss ein Herbstellwerk einen Verantwortlich haben?, Text: ihm hergestellten Bauprodukte den Bestimmungen dieser Norm entsprechen Die Kontrollen sind entsprechend dokumentieren Durchführung Der Umfang werkseigenen Produktionskontrolle vorgefertigte dieser Norm ist in Anlehnung an mit überwachenden Stelle abzustimmen Für Durchführung werkseigenen Produktionskontrolle ist Hersteller verantwortlich Er muss über geeignetes Fachpersonal Einrichtungen Geräte verfügen Er hat jedes Herstellwerk einen Verantwortlichen benennen Wesentliche Änderungen Produktion sind Überwachungsstelle mitzuteilen Für den Beton gelten Bestimmungen EN in Verbindung mit Ausgangsstoffe Zwischenprodukte Die zur Herstellung verwendeten Bauprodukte sind dokumentieren Es dürfen nur Bauprodukte verwendet werden mit dem Übereinstimmungszeichen gekennzeichnet sind Für Art Umfang Prüfungen gilt Die Verwendbarkeitsnachweise erfolgen auf Basis Deckenziegel EN Beton sowie Normenreihe Betonstahl\n",
      "Question: War Hut Jeder Herbstellwerk?, Text: ihm hergestellten Bauprodukte den Bestimmungen dieser Norm entsprechen Die Kontrollen sind entsprechend dokumentieren Durchführung Der Umfang werkseigenen Produktionskontrolle vorgefertigte dieser Norm ist in Anlehnung an mit überwachenden Stelle abzustimmen Für Durchführung werkseigenen Produktionskontrolle ist Hersteller verantwortlich Er muss über geeignetes Fachpersonal Einrichtungen Geräte verfügen Er hat jedes Herstellwerk einen Verantwortlichen benennen Wesentliche Änderungen Produktion sind Überwachungsstelle mitzuteilen Für den Beton gelten Bestimmungen EN in Verbindung mit Ausgangsstoffe Zwischenprodukte Die zur Herstellung verwendeten Bauprodukte sind dokumentieren Es dürfen nur Bauprodukte verwendet werden mit dem Übereinstimmungszeichen gekennzeichnet sind Für Art Umfang Prüfungen gilt Die Verwendbarkeitsnachweise erfolgen auf Basis Deckenziegel EN Beton sowie Normenreihe Betonstahl\n",
      "Question: Was sind überwachungsstelle Mitzuteilen für Beton gelten Bestimmungs in Verbindung Mit Ausgangstoffe Zwische Produkte zum Zurhersten -Basterden -Dokument -Esa -BaRfen -Barfen -Barfen -Barfen -Barfen -Barfen -Barfen -Barfen -Barforten -Meig -Mitten -Meig -Mitten -Mit -Meig -Meig -Mit -Mit -Mit -Meig -Mit -Mit -Meig -Mit -Mit -Meig -Mit -Meig -Mit -Meig -Mit., Text: ihm hergestellten Bauprodukte den Bestimmungen dieser Norm entsprechen Die Kontrollen sind entsprechend dokumentieren Durchführung Der Umfang werkseigenen Produktionskontrolle vorgefertigte dieser Norm ist in Anlehnung an mit überwachenden Stelle abzustimmen Für Durchführung werkseigenen Produktionskontrolle ist Hersteller verantwortlich Er muss über geeignetes Fachpersonal Einrichtungen Geräte verfügen Er hat jedes Herstellwerk einen Verantwortlichen benennen Wesentliche Änderungen Produktion sind Überwachungsstelle mitzuteilen Für den Beton gelten Bestimmungen EN in Verbindung mit Ausgangsstoffe Zwischenprodukte Die zur Herstellung verwendeten Bauprodukte sind dokumentieren Es dürfen nur Bauprodukte verwendet werden mit dem Übereinstimmungszeichen gekennzeichnet sind Für Art Umfang Prüfungen gilt Die Verwendbarkeitsnachweise erfolgen auf Basis Deckenziegel EN Beton sowie Normenreihe Betonstahl\n",
      "Question: Was sind Endprodukte auf überstimmung mit Angaben Bautechnischen Unerlagen Gegebenenfalls Unter Berückschen Ergebnisse Protebung Bauvorlagen Prrüfen BEI UNGENGENDELGENGENDERGENGENDELLEGENGENDELLEN MAHNENGENGEN MAHNENGENGEN MAHN MALLELLEN MADNENGEN MADNENGEN MADNENGEN MADNENGEN MADNENGELLEN MADNENSEN MADNSEN SINDEN SINDREGEN ZOSTERGENGEERZENZÜGELLENGERGEGERGENZÜGELLEGERGENGEER ZLAGENGENGEERZÜGENGEERZÜGENGEERZÜGENGELLEN MADNENGENSEN SINGENSEN SINDREGEN ZOSTERGENGEERZÜGENGEERZÜGELLENGEER Els?, Text: Endprodukte Die Endprodukte sind auf Übereinstimmung mit den Angaben bautechnischen Unterlagen gegebenenfalls unter Berücksichtigung Ergebnisse Prüfung Bauvorlagen prüfen Bei ungenügenden Prüfungsergebnissen sind vom Hersteller unverzüglich erforderlichen Maßnahmen zur Abstellung des Mangels treffen den Anforderungen dieser Norm nicht entsprechen sind Verwendung auszuschließen besonders kennzeichnen Nach Abstellung des Mangels ist soweit technisch möglich zum Nachweis Mangelbeseitigung erforderlich betreffende Prüfung unverzüglich wiederholen Aufzeichnungen Die Ergebnisse werkseigenen Produktionskontrolle sind hinsichtlich Ausgangsstoffe Zwischen produkte Endprodukte aufzuzeichnen auszuwerten Die Aufzeichnungen müssen mindestens folgende Angaben enthalten Wesentliche Eigenschaften verwendeten Baustoffe den Namen Lieferwerke Nummern Lieferscheine Herstelltag Ergebnisse Frischbetonuntersuchungen Konsistenz Rohdichte Zusammensetzung Betonprobekörper mit ihrer Bezeichnung dem Tag Herstellung Angabe einzelnen Beton verwendet wurde das Datum Ergebnisse Prüfung geforderte Festigkeitsklasse Unterschrift des werkseigene Produktionskontrolle Verantwortlichen £ Die Aufzeichnungen sind ebenso wie Lieferscheine 5Jahre aufzubewahren Überwachungsstelle auf Verlangen vorzuzeigen Fremdüberwachung Erstüberwachung Vor Aufnahme Regelüberwachung hat Überwachungsstelle eine vollständige Überwachung vom gleichen Umfang wie bei Regelüberwachung durchzuführen festzustellen ob den Anforderungen\n",
      "Question: Welche Baustoffe Sind lieferwerke nummern liefersche hersteartag Ergebnisse Frischbetontertersuchungen Konsistenz Rohdichtes keitsklasse unterschrift des werksechene produkionskontrolle Verantwortliche £ Die Aufzeichungen, Text: Endprodukte Die Endprodukte sind auf Übereinstimmung mit den Angaben bautechnischen Unterlagen gegebenenfalls unter Berücksichtigung Ergebnisse Prüfung Bauvorlagen prüfen Bei ungenügenden Prüfungsergebnissen sind vom Hersteller unverzüglich erforderlichen Maßnahmen zur Abstellung des Mangels treffen den Anforderungen dieser Norm nicht entsprechen sind Verwendung auszuschließen besonders kennzeichnen Nach Abstellung des Mangels ist soweit technisch möglich zum Nachweis Mangelbeseitigung erforderlich betreffende Prüfung unverzüglich wiederholen Aufzeichnungen Die Ergebnisse werkseigenen Produktionskontrolle sind hinsichtlich Ausgangsstoffe Zwischen produkte Endprodukte aufzuzeichnen auszuwerten Die Aufzeichnungen müssen mindestens folgende Angaben enthalten Wesentliche Eigenschaften verwendeten Baustoffe den Namen Lieferwerke Nummern Lieferscheine Herstelltag Ergebnisse Frischbetonuntersuchungen Konsistenz Rohdichte Zusammensetzung Betonprobekörper mit ihrer Bezeichnung dem Tag Herstellung Angabe einzelnen Beton verwendet wurde das Datum Ergebnisse Prüfung geforderte Festigkeitsklasse Unterschrift des werkseigene Produktionskontrolle Verantwortlichen £ Die Aufzeichnungen sind ebenso wie Lieferscheine 5Jahre aufzubewahren Überwachungsstelle auf Verlangen vorzuzeigen Fremdüberwachung Erstüberwachung Vor Aufnahme Regelüberwachung hat Überwachungsstelle eine vollständige Überwachung vom gleichen Umfang wie bei Regelüberwachung durchzuführen festzustellen ob den Anforderungen\n",
      "Question: Wie Lange Sind Lieferscheine Aufbewahrt?, Text: Endprodukte Die Endprodukte sind auf Übereinstimmung mit den Angaben bautechnischen Unterlagen gegebenenfalls unter Berücksichtigung Ergebnisse Prüfung Bauvorlagen prüfen Bei ungenügenden Prüfungsergebnissen sind vom Hersteller unverzüglich erforderlichen Maßnahmen zur Abstellung des Mangels treffen den Anforderungen dieser Norm nicht entsprechen sind Verwendung auszuschließen besonders kennzeichnen Nach Abstellung des Mangels ist soweit technisch möglich zum Nachweis Mangelbeseitigung erforderlich betreffende Prüfung unverzüglich wiederholen Aufzeichnungen Die Ergebnisse werkseigenen Produktionskontrolle sind hinsichtlich Ausgangsstoffe Zwischen produkte Endprodukte aufzuzeichnen auszuwerten Die Aufzeichnungen müssen mindestens folgende Angaben enthalten Wesentliche Eigenschaften verwendeten Baustoffe den Namen Lieferwerke Nummern Lieferscheine Herstelltag Ergebnisse Frischbetonuntersuchungen Konsistenz Rohdichte Zusammensetzung Betonprobekörper mit ihrer Bezeichnung dem Tag Herstellung Angabe einzelnen Beton verwendet wurde das Datum Ergebnisse Prüfung geforderte Festigkeitsklasse Unterschrift des werkseigene Produktionskontrolle Verantwortlichen £ Die Aufzeichnungen sind ebenso wie Lieferscheine 5Jahre aufzubewahren Überwachungsstelle auf Verlangen vorzuzeigen Fremdüberwachung Erstüberwachung Vor Aufnahme Regelüberwachung hat Überwachungsstelle eine vollständige Überwachung vom gleichen Umfang wie bei Regelüberwachung durchzuführen festzustellen ob den Anforderungen\n",
      "Question: Welcher Hut überwachungsstelle Feststellen, Wenn der Anforderungen der Normentrechnen?, Text: Vor Aufnahme Regelüberwachung hat Überwachungsstelle eine vollständige Überwachung vom gleichen Umfang wie bei Regelüberwachung durchzuführen festzustellen ob den Anforderungen dieser Norm entsprechen Sie hat sich auch davon überzeugen dass personellen gerätemäßigen Voraussetzungen eine ständige ordnungsgemäße Herstellung eine entsprechende werkseigene Produktionskontrolle geeignet erscheinen Regelüberwachung Für Regelüberwachung gelten Festlegungen in Verbindung mit Dabei ist gegebenenfalls auch festzustellen ob ständige Betonprüfstelle Anforderungen NC erfüllt\n",
      "Question: Welche Art von Regelternerwachung gelten Festlegungen in Verbindung Mit Dabei ist Gegeblenens -Auch -Edustellen -Ob -Ständer Betonprufstelle Anforderungen NC Erfültt, Text: Vor Aufnahme Regelüberwachung hat Überwachungsstelle eine vollständige Überwachung vom gleichen Umfang wie bei Regelüberwachung durchzuführen festzustellen ob den Anforderungen dieser Norm entsprechen Sie hat sich auch davon überzeugen dass personellen gerätemäßigen Voraussetzungen eine ständige ordnungsgemäße Herstellung eine entsprechende werkseigene Produktionskontrolle geeignet erscheinen Regelüberwachung Für Regelüberwachung gelten Festlegungen in Verbindung mit Dabei ist gegebenenfalls auch festzustellen ob ständige Betonprüfstelle Anforderungen NC erfüllt\n",
      "0:01:32.705040\n"
     ]
    }
   ],
   "source": [
    "from haystack.nodes import QuestionGenerator\n",
    "from haystack.nodes import QuestionGenerator\n",
    "from googletrans import Translator, LANGUAGES\n",
    "import datetime\n",
    "\n",
    "now = datetime.datetime.now()\n",
    "\n",
    "# Initialize the QuestionGenerator\n",
    "qg = QuestionGenerator()\n",
    "translator = Translator()\n",
    "\n",
    "\n",
    "\n",
    "# Dictionary to store  results: question as key and text as value\n",
    "questions_to_text_dict = {}\n",
    "\n",
    "# Combine English and German question starters\n",
    "question_starters = [\n",
    "    \"what\", \"how\", \"why\", \"who\", \"where\", \"when\", \"which\", \"whose\", \"are\", \"can\",\n",
    "    \"could\", \"do\", \"does\", \"did\", \"have\", \"has\", \"is\", \"should\", \"will\", \"would\",\n",
    "    # Add German question starters\n",
    "    \"was\", \"wie\", \"warum\", \"wer\", \"wo\", \"wann\", \"welcher\", \"welche\", \"welches\", \"wessen\",\n",
    "    \"sind\", \"kann\", \"könnte\", \"tun\", \"macht\", \"gemacht\", \"haben\", \"hat\", \"ist\", \"sollte\",\n",
    "    \"wird\", \"würde\", \"woher\", \"weshalb\", \"wieso\", \"wozu\", \"in welche\", \"in welchem\",\n",
    "    \"in welcher\", \"in welchen\", \"in welches\", \"aus welchem grund\", \"an wen\", \"mit wem\",\n",
    "    \"zu wem\", \"ab wann\", \"bis wann\", \"aus welcher\", \"mit welcher\", \"zu welcher\"\n",
    "]\n",
    "for text in all_values:\n",
    "            \n",
    "        generated_questions = qg.generate(text)\n",
    "        for question in generated_questions:\n",
    "                if question.lower().startswith(tuple(question_starters)):\n",
    "                    translated_question = translator.translate(question, dest='de').text\n",
    "                \n",
    "                # Store the text as the value for the translated question key\n",
    "                    questions_to_text_dict[translated_question] = text\n",
    "\n",
    "\n",
    "translated_questions_dict = {}\n",
    "\n",
    "# Translate each key (question) to German\n",
    "for key, value in questions_to_text_dict.items():\n",
    "    translated_key = translator.translate(key, src='en', dest='de').text\n",
    "    translated_questions_dict[translated_key] = value\n",
    "\n",
    "# Print the translated questions and their corresponding texts\n",
    "for question, text in translated_questions_dict.items():\n",
    "    print(f\"Question: {question}, Text: {text}\")\n",
    "    \n",
    "stop = datetime.datetime.now()\n",
    "haystack = stop - now\n",
    "print(haystack)\n"
   ]
  }
 ],
 "metadata": {
  "kernelspec": {
   "display_name": "base",
   "language": "python",
   "name": "python3"
  },
  "language_info": {
   "codemirror_mode": {
    "name": "ipython",
    "version": 3
   },
   "file_extension": ".py",
   "mimetype": "text/x-python",
   "name": "python",
   "nbconvert_exporter": "python",
   "pygments_lexer": "ipython3",
   "version": "3.11.5"
  }
 },
 "nbformat": 4,
 "nbformat_minor": 2
}
