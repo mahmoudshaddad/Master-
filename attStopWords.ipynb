{
 "cells": [
  {
   "cell_type": "markdown",
   "metadata": {},
   "source": [
    "__________________________________________________"
   ]
  },
  {
   "cell_type": "markdown",
   "metadata": {},
   "source": [
    "# <center><b>Comparance between StopWords in Different Libraries that have stopwords</b></center>"
   ]
  },
  {
   "cell_type": "markdown",
   "metadata": {},
   "source": [
    "_______________________________________________________________________________________"
   ]
  },
  {
   "cell_type": "markdown",
   "metadata": {},
   "source": [
    "## <center><b>SpaCy</b></center>\n",
    "source:[**SpaCy**](https://spacy.io/)\n"
   ]
  },
  {
   "cell_type": "markdown",
   "metadata": {},
   "source": []
  },
  {
   "cell_type": "code",
   "execution_count": 7,
   "metadata": {},
   "outputs": [
    {
     "name": "stdout",
     "output_type": "stream",
     "text": [
      "List of stop words in German:\n",
      "{'dort', 'jedoch', 'demgegenüber', 'zwanzig', 'davor', 'diesem', 'dürft', 'besonders', 'eigener', 'nun', 'konnten', 'genug', 'möchte', 'da', 'ersten', 'eben', 'viertes', 'neuntes', 'nach', 'jenem', 'übrigens', 'dein', 'ganzer', 'geschweige', 'kleinen', 'gewollt', 'morgen', 'ihre', 'mir', 'deshalb', 'keinen', 'lange', 'derjenige', 'wenig', 'jenes', 'na', 'fünf', 'werde', 'werdet', 'seinen', 'währenddessen', 'sechstes', 'derselbe', 'ganz', 'weit', 'ehrlich', 'ganzes', 'jemandem', 'sehr', 'seines', 'machte', 'deine', 'sollte', 'durch', 'daraus', 'seid', 'sechs', 'tun', 'mit', 'früher', 'weitere', 'ich', 'oft', 'einer', 'gab', 'mochte', 'ende', 'vielleicht', 'dich', 'man', 'satt', 'ganze', 'beispiel', 'ihrem', 'sein', 'wurden', 'niemanden', 'a', 'hatte', 'gerade', 'von', 'selbst', 'niemandem', 'elf', 'jedermanns', 'allerdings', 'das', 'durchaus', 'vierten', 'weniges', 'nicht', 'trotzdem', 'jene', 'doch', 'zwar', 'beim', 'vergangenen', 'war', 'weiteres', 'besser', 'guter', 'solche', 'jenen', 'jede', 'geworden', 'diejenige', 'möglich', 'derselben', 'keinem', 'gemacht', 'hast', 'worden', 'erster', 'lieber', 'dem', 'mein', 'solchem', 'dermassen', 'in', 'alles', 'seit', 'kannst', 'einmal', 'danach', 'musste', 'jahr', 'anderen', 'hatten', 'neun', 'achter', 'wart', 'müsst', 'uns', 'zurück', 'sagt', 'er', 'gewesen', 'jedem', 'zeit', 'andern', 'welches', 'eigene', 'noch', 'dieses', 'nie', 'an', 'denn', 'wirst', 'offen', 'eine', 'hier', 'leicht', 'bist', 'rechter', 'nichts', 'siebter', 'weil', 'gegen', 'ausser', 'sechsten', 'darf', 'je', 'muß', 'dieselben', 'gross', 'bis', 'habe', 'darin', 'zweiten', 'im', 'demselben', 'fünften', 'rund', 'zunächst', 'durfte', 'auch', 'einiges', 'drin', 'wollt', 'siebenten', 'du', 'großen', 'deiner', 'habt', 'sind', 'siebtes', 'dann', 'darunter', 'zugleich', 'gesagt', 'statt', 'fünfte', 'wollte', 'außerdem', 'gehen', 'dieselbe', 'ja', 'wollen', 'denen', 'fünftes', 'jahre', 'dasein', 'für', 'einigen', 'hat', 'wann', 'siebenter', 'sonst', 'mich', 'dagegen', 'vierte', 'durften', 'erst', 'große', 'zu', 'dabei', 'eigenen', 'jedermann', 'sieben', 'her', 'wohl', 'gehabt', 'ihr', 'keine', 'außer', 'dermaßen', 'müssen', 'acht', 'fünfter', 'dir', 'richtig', 'achte', 'schon', 'neuen', 'seinem', 'ihrer', 'groß', 'viel', 'besten', 'demgemäß', 'davon', 'einen', 'welche', 'á', 'ins', 'manchem', 'erstes', 'vierter', 'gekannt', 'siebentes', 'zweiter', 'ag', 'manchen', 'dazu', 'würden', 'vier', 'zusammen', 'dasselbe', 'wie', 'und', 'zuerst', 'seien', 'muss', 'waren', 'als', 'hätten', 'tel', 'eigen', 'hoch', 'nein', 'gern', 'ab', 'diese', 'wessen', 'damit', 'sollen', 'wird', 'gibt', 'allem', 'zehnter', 'auf', 'dahinter', 'manche', 'siebten', 'grosse', 'entweder', 'solches', 'ihn', 'bei', 'aus', 'sei', 'dieser', 'vielem', 'niemand', 'lang', 'wegen', 'kann', 'uhr', 'daselbst', 'wäre', 'jeder', 'welchen', 'dürfen', 'seitdem', 'kurz', 'bereits', 'deswegen', 'werden', 'neunte', 'derjenigen', 'bald', 'keiner', 'dazwischen', 'mancher', 'teil', 'mag', 'einige', 'großer', 'wenige', 'haben', 'darauf', 'neunter', 'kommen', 'dass', 'neunten', 'deinem', 'ob', 'siebte', 'vor', 'indem', 'großes', 'tat', 'musst', 'siebente', 'weniger', 'würde', 'ein', 'deren', 'wenn', 'jener', 'ging', 'wir', 'die', 'was', 'sechste', 'wollten', 'beide', 'daran', 'drittes', 'schlecht', 'wieder', 'ebenso', 'solcher', 'darfst', 'manches', 'recht', 'ausserdem', 'macht', 'gut', 'vielen', 'bin', 'einiger', 'zweites', 'also', 'dies', 'heißt', 'jemanden', 'anderem', 'überhaupt', 'viele', 'achtes', 'will', 'diejenigen', 'neue', 'dritte', 'unserer', 'andere', 'solang', 'ohne', 'sollten', 'zehnte', 'damals', 'hinter', 'gar', 'einem', 'zehnten', 'nahm', 'unter', 'jetzt', 'kein', 'dritter', 'mehr', 'geht', 'wenigstens', 'tage', 'gedurft', 'zehn', 'zum', 'meinem', 'meine', 'neben', 'zwei', 'währenddem', 'ihnen', 'dank', 'seine', 'gute', 'bekannt', 'vergangene', 'allgemeinen', 'alle', 'mögen', 'solchen', 'wem', 'kaum', 'sowie', 'meinen', 'soll', 'dritten', 'sich', 'wen', 'daß', 'jemand', 'dementsprechend', 'zwischen', 'gegenüber', 'kleiner', 'einander', 'sechster', 'gemocht', 'unser', 'weiteren', 'ihren', 'nachdem', 'diesen', 'zur', 'einmaleins', 'gleich', 'können', 'ach', 'achten', 'grossen', 'aller', 'seiner', 'willst', 'heisst', 'meines', 'sah', 'rechten', 'ist', 'ganzen', 'dadurch', 'los', 'unsere', 'sie', 'mussten', 'tag', 'wurde', 'nur', 'so', 'natürlich', 'daher', 'hin', 'immer', 'welchem', 'der', 'vom', 'allein', 'am', 'um', 'wahr', 'es', 'konnte', 'darum', 'drei', 'etwa', 'warum', 'kleine', 'später', 'erste', 'leider', 'en', 'infolgedessen', 'dafür', 'endlich', 'kam', 'über', 'irgend', 'tagen', 'zweite', 'machen', 'wirklich', 'wer', 'kleines', 'eines', 'meiner', 'beiden', 'kommt', 'hätte', 'des', 'gemusst', 'heute', 'rechte', 'sagte', 'daneben', 'jahren', 'grosser', 'mittel', 'gekonnt', 'magst', 'bisher', 'könnte', 'mochten', 'gutes', 'denselben', 'euch', 'zehntes', 'eigenes', 'weiter', 'den', 'könnt', 'mögt', 'dahin', 'ihres', 'oben', 'desselben', 'während', 'jeden', 'anders', 'aber', 'demgemäss', 'sondern', 'ihm', 'demzufolge', 'dessen', 'rechtes', 'oder', 'allen', 'wo', 'darüber', 'welcher', 'etwas', 'grosses'}\n"
     ]
    }
   ],
   "source": [
    "import spacy\n",
    "import pandas as pd \n",
    "\n",
    "# Load the spaCy language model for German\n",
    "nlp = spacy.load(\"de_core_news_sm\")\n",
    "\n",
    "# Get the list of stop words in German\n",
    "stop_words_SpaCy = nlp.Defaults.stop_words\n",
    "\n",
    "# Print the list of stop words\n",
    "print(\"List of stop words in German:\")\n",
    "print(stop_words_SpaCy)\n"
   ]
  },
  {
   "cell_type": "code",
   "execution_count": 14,
   "metadata": {},
   "outputs": [
    {
     "data": {
      "text/plain": [
       "543"
      ]
     },
     "execution_count": 14,
     "metadata": {},
     "output_type": "execute_result"
    }
   ],
   "source": [
    "len(stop_words_SpaCy)"
   ]
  },
  {
   "cell_type": "markdown",
   "metadata": {},
   "source": [
    "## ______________________________________________________________________________________________________________________________________________________________________________________"
   ]
  },
  {
   "cell_type": "markdown",
   "metadata": {},
   "source": [
    "# <center><b>NlTK</b></center>\n",
    "\n",
    "source:[**NlTK**](https://www.nltk.org/)\n",
    "\n"
   ]
  },
  {
   "cell_type": "code",
   "execution_count": 11,
   "metadata": {},
   "outputs": [
    {
     "name": "stdout",
     "output_type": "stream",
     "text": [
      "List of stop words in German:\n",
      "{'dort', 'an', 'denn', 'wirst', 'sich', 'daß', 'solches', 'ihn', 'bei', 'eine', 'hier', 'aus', 'bist', 'zwischen', 'diesem', 'unser', 'nun', 'dieser', 'nichts', 'ihren', 'da', 'weil', 'diesen', 'gegen', 'zur', 'nach', 'jenem', 'kann', 'dieselben', 'dein', 'jeder', 'können', 'welchen', 'anderr', 'bis', 'derer', 'ihre', 'werden', 'habe', 'eurem', 'mir', 'keiner', 'keinen', 'im', 'mancher', 'demselben', 'einige', 'jenes', 'aller', 'werde', 'seinen', 'derselbe', 'haben', 'seiner', 'auch', 'einigem', 'deinen', 'meines', 'einiges', 'sehr', 'seines', 'dass', 'anderer', 'deinem', 'ist', 'ob', 'deine', 'sollte', 'unsere', 'durch', 'indem', 'sie', 'vor', 'du', 'deiner', 'nur', 'eurer', 'so', 'sind', 'mit', 'weg', 'würde', 'ein', 'dann', 'ich', 'wenn', 'hin', 'jener', 'welchem', 'einer', 'wollte', 'der', 'vom', 'dich', 'wir', 'die', 'man', 'am', 'um', 'dieselbe', 'was', 'wollen', 'es', 'ihrem', 'für', 'sein', 'einigen', 'hat', 'wieder', 'sonst', 'mich', 'hatte', 'solcher', 'von', 'eure', 'manches', 'selbst', 'zu', 'anderes', 'unseren', 'das', 'jedes', 'über', 'bin', 'machen', 'einiger', 'also', 'dies', 'ihr', 'eines', 'keine', 'anderem', 'meiner', 'nicht', 'dir', 'will', 'jene', 'doch', 'zwar', 'auf', 'war', 'andere', 'des', 'anderm', 'seinem', 'ihrer', 'solche', 'unseres', 'jenen', 'ohne', 'jede', 'viel', 'euer', 'derselben', 'hab', 'keinem', 'einen', 'hinter', 'welche', 'mein', 'dem', 'könnte', 'einem', 'solchem', 'ins', 'manchem', 'denselben', 'einig', 'euch', 'alles', 'ander', 'in', 'unter', 'deines', 'jetzt', 'kein', 'einmal', 'weiter', 'den', 'musste', 'eures', 'manchen', 'zum', 'ihres', 'anderen', 'dazu', 'würden', 'desselben', 'hatten', 'während', 'jeden', 'meinem', 'anders', 'dasselbe', 'wie', 'und', 'aber', 'meine', 'uns', 'muss', 'waren', 'er', 'ihnen', 'als', 'keines', 'manche', 'sondern', 'ihm', 'gewesen', 'dessen', 'seine', 'oder', 'allen', 'euren', 'jedem', 'unserem', 'wo', 'alle', 'diese', 'solchen', 'andern', 'welches', 'damit', 'welcher', 'wird', 'etwas', 'warst', 'noch', 'allem', 'meinen', 'dieses', 'soll'}\n"
     ]
    },
    {
     "name": "stderr",
     "output_type": "stream",
     "text": [
      "[nltk_data] Downloading package stopwords to\n",
      "[nltk_data]     C:\\Users\\engin\\AppData\\Roaming\\nltk_data...\n",
      "[nltk_data]   Package stopwords is already up-to-date!\n"
     ]
    }
   ],
   "source": [
    "import nltk\n",
    "\n",
    "# Download the stop words for the German language\n",
    "nltk.download('stopwords')\n",
    "\n",
    "from nltk.corpus import stopwords\n",
    "\n",
    "# Get the list of stop words in German\n",
    "stop_words_NTLK = set(stopwords.words('german'))\n",
    "\n",
    "# Print the list of stop words\n",
    "print(\"List of stop words in German:\")\n",
    "print(stop_words_NTLK)\n"
   ]
  },
  {
   "cell_type": "code",
   "execution_count": 12,
   "metadata": {},
   "outputs": [
    {
     "name": "stdout",
     "output_type": "stream",
     "text": [
      "List of stop words in German:\n",
      "{'dort', 'an', 'denn', 'wirst', 'sich', 'daß', 'solches', 'ihn', 'bei', 'eine', 'hier', 'aus', 'bist', 'zwischen', 'diesem', 'unser', 'nun', 'dieser', 'nichts', 'ihren', 'da', 'weil', 'diesen', 'gegen', 'zur', 'nach', 'jenem', 'kann', 'dieselben', 'dein', 'jeder', 'können', 'welchen', 'anderr', 'bis', 'derer', 'ihre', 'werden', 'habe', 'eurem', 'mir', 'keiner', 'keinen', 'im', 'mancher', 'demselben', 'einige', 'jenes', 'aller', 'werde', 'seinen', 'derselbe', 'haben', 'seiner', 'auch', 'einigem', 'deinen', 'meines', 'einiges', 'sehr', 'seines', 'dass', 'anderer', 'deinem', 'ist', 'ob', 'deine', 'sollte', 'unsere', 'durch', 'indem', 'sie', 'vor', 'du', 'deiner', 'nur', 'eurer', 'so', 'sind', 'mit', 'weg', 'würde', 'ein', 'dann', 'ich', 'wenn', 'hin', 'jener', 'welchem', 'einer', 'wollte', 'der', 'vom', 'dich', 'wir', 'die', 'man', 'am', 'um', 'dieselbe', 'was', 'wollen', 'es', 'ihrem', 'für', 'sein', 'einigen', 'hat', 'wieder', 'sonst', 'mich', 'hatte', 'solcher', 'von', 'eure', 'manches', 'selbst', 'zu', 'anderes', 'unseren', 'das', 'jedes', 'über', 'bin', 'machen', 'einiger', 'also', 'dies', 'ihr', 'eines', 'keine', 'anderem', 'meiner', 'nicht', 'dir', 'will', 'jene', 'doch', 'zwar', 'auf', 'war', 'andere', 'des', 'anderm', 'seinem', 'ihrer', 'solche', 'unseres', 'jenen', 'ohne', 'jede', 'viel', 'euer', 'derselben', 'hab', 'keinem', 'einen', 'hinter', 'welche', 'mein', 'dem', 'könnte', 'einem', 'solchem', 'ins', 'manchem', 'denselben', 'einig', 'euch', 'alles', 'ander', 'in', 'unter', 'deines', 'jetzt', 'kein', 'einmal', 'weiter', 'den', 'musste', 'eures', 'manchen', 'zum', 'ihres', 'anderen', 'dazu', 'würden', 'desselben', 'hatten', 'während', 'jeden', 'meinem', 'anders', 'dasselbe', 'wie', 'und', 'aber', 'meine', 'uns', 'muss', 'waren', 'er', 'ihnen', 'als', 'keines', 'manche', 'sondern', 'ihm', 'gewesen', 'dessen', 'seine', 'oder', 'allen', 'euren', 'jedem', 'unserem', 'wo', 'alle', 'diese', 'solchen', 'andern', 'welches', 'damit', 'welcher', 'wird', 'etwas', 'warst', 'noch', 'allem', 'meinen', 'dieses', 'soll'}\n"
     ]
    }
   ],
   "source": [
    "print(\"List of stop words in German:\")\n",
    "print(stop_words_NTLK)"
   ]
  },
  {
   "cell_type": "code",
   "execution_count": 13,
   "metadata": {},
   "outputs": [
    {
     "data": {
      "text/plain": [
       "232"
      ]
     },
     "execution_count": 13,
     "metadata": {},
     "output_type": "execute_result"
    }
   ],
   "source": [
    "len(stop_words_NTLK)"
   ]
  },
  {
   "cell_type": "markdown",
   "metadata": {},
   "source": [
    "# _______________________________________________________________________________________________________________________________________________________________________________________________________________________"
   ]
  },
  {
   "cell_type": "markdown",
   "metadata": {},
   "source": [
    "# _______________________________________________________________________________________________________________________________________________________________________________________________________________________"
   ]
  },
  {
   "cell_type": "markdown",
   "metadata": {},
   "source": [
    "# <center><b>Stopwords ISO</b></center>\n",
    "\n",
    "\n",
    "source:[**Stopwords ISO**](https://github.com/stopwords-iso)"
   ]
  },
  {
   "cell_type": "markdown",
   "metadata": {},
   "source": [
    "## list of stopWord by Stopwords ISO\n",
    "soruce: https://github.com/stopwords-iso"
   ]
  },
  {
   "cell_type": "code",
   "execution_count": 28,
   "metadata": {},
   "outputs": [
    {
     "name": "stdout",
     "output_type": "stream",
     "text": [
      "['ab', 'aber', 'abermaliges', 'abermals', 'abgerufen', 'abgerufene', 'abgerufener', 'abgerufenes', 'abgesehen', 'acht', 'aehnlich', 'aehnliche', 'aehnlichem', 'aehnlichen', 'aehnlicher', 'aehnliches', 'aehnlichste', 'aehnlichstem', 'aehnlichsten', 'aehnlichster', 'aehnlichstes', 'aeusserst', 'aeusserste', 'aeusserstem', 'aeussersten', 'aeusserster', 'aeusserstes', 'ähnlich', 'ähnliche', 'ähnlichem', 'ähnlichen', 'ähnlicher', 'ähnliches', 'ähnlichst', 'ähnlichste', 'ähnlichstem', 'ähnlichsten', 'ähnlichster', 'ähnlichstes', 'alle', 'allein', 'alleine', 'allem', 'allemal', 'allen', 'allenfalls', 'allenthalben', 'aller', 'allerdings', 'allerlei', 'alles', 'allesamt', 'allg', 'allg.', 'allgemein', 'allgemeine', 'allgemeinem', 'allgemeinen', 'allgemeiner', 'allgemeines', 'allgemeinste', 'allgemeinstem', 'allgemeinsten', 'allgemeinster', 'allgemeinstes', 'allmählich', 'allzeit', 'allzu', 'als', 'alsbald', 'also', 'am', 'an', 'and', 'andauernd', 'andauernde', 'andauerndem', 'andauernden', 'andauernder', 'andauerndes', 'ander', 'andere', 'anderem', 'anderen', 'anderenfalls', 'anderer', 'andererseits', 'anderes', 'anderm', 'andern', 'andernfalls', 'anderr', 'anders', 'anderst', 'anderweitig', 'anderweitige', 'anderweitigem', 'anderweitigen', 'anderweitiger', 'anderweitiges', 'anerkannt', 'anerkannte', 'anerkannter', 'anerkanntes', 'anfangen', 'anfing', 'angefangen', 'angesetze', 'angesetzt', 'angesetzten', 'angesetzter', 'ans', 'anscheinend', 'ansetzen', 'ansonst', 'ansonsten', 'anstatt', 'anstelle', 'arbeiten', 'auch', 'auf', 'aufgehört', 'aufgrund', 'aufhören', 'aufhörte', 'aufzusuchen', 'augenscheinlich', 'augenscheinliche', 'augenscheinlichem', 'augenscheinlichen', 'augenscheinlicher', 'augenscheinliches', 'augenscheinlichst', 'augenscheinlichste', 'augenscheinlichstem', 'augenscheinlichsten', 'augenscheinlichster', 'augenscheinlichstes', 'aus', 'ausdrücken', 'ausdrücklich', 'ausdrückliche', 'ausdrücklichem', 'ausdrücklichen', 'ausdrücklicher', 'ausdrückliches', 'ausdrückt', 'ausdrückte', 'ausgenommen', 'ausgenommene', 'ausgenommenem', 'ausgenommenen', 'ausgenommener', 'ausgenommenes', 'ausgerechnet', 'ausgerechnete', 'ausgerechnetem', 'ausgerechneten', 'ausgerechneter', 'ausgerechnetes', 'ausnahmslos', 'ausnahmslose', 'ausnahmslosem', 'ausnahmslosen', 'ausnahmsloser', 'ausnahmsloses', 'außen', 'ausser', 'ausserdem', 'außerhalb', 'äusserst', 'äusserste', 'äusserstem', 'äussersten', 'äusserster', 'äusserstes', 'author', 'autor', 'baelde', 'bald', 'bälde', 'bearbeite', 'bearbeiten', 'bearbeitete', 'bearbeiteten', 'bedarf', 'bedürfen', 'bedurfte', 'been', 'befahl', 'befiehlt', 'befiehlte', 'befohlene', 'befohlens', 'befragen', 'befragte', 'befragten', 'befragter', 'begann', 'beginnen', 'begonnen', 'behalten', 'behielt', 'bei', 'beide', 'beidem', 'beiden', 'beider', 'beiderlei', 'beides', 'beim', 'beinahe', 'beisammen', 'beispielsweise', 'beitragen', 'beitrugen', 'bekannt', 'bekannte', 'bekannter', 'bekanntlich', 'bekanntliche', 'bekanntlichem', 'bekanntlichen', 'bekanntlicher', 'bekanntliches', 'bekennen', 'benutzt', 'bereits', 'berichten', 'berichtet', 'berichtete', 'berichteten', 'besonders', 'besser', 'bessere', 'besserem', 'besseren', 'besserer', 'besseres', 'bestehen', 'besteht', 'bestenfalls', 'bestimmt', 'bestimmte', 'bestimmtem', 'bestimmten', 'bestimmter', 'bestimmtes', 'beträchtlich', 'beträchtliche', 'beträchtlichem', 'beträchtlichen', 'beträchtlicher', 'beträchtliches', 'betraechtlich', 'betraechtliche', 'betraechtlichem', 'betraechtlichen', 'betraechtlicher', 'betraechtliches', 'betreffend', 'betreffende', 'betreffendem', 'betreffenden', 'betreffender', 'betreffendes', 'bevor', 'bez', 'bez.', 'bezgl', 'bezgl.', 'bezueglich', 'bezüglich', 'bietet', 'bin', 'bis', 'bisher', 'bisherige', 'bisherigem', 'bisherigen', 'bisheriger', 'bisheriges', 'bislang', 'bisschen', 'bist', 'bitte', 'bleiben', 'bleibt', 'blieb', 'bloss', 'böden', 'boeden', 'brachte', 'brachten', 'brauchen', 'braucht', 'bräuchte', 'bringen', 'bsp', 'bsp.', 'bspw', 'bspw.', 'bzw', 'bzw.', 'ca', 'ca.', 'circa', 'da', 'dabei', 'dadurch', 'dafuer', 'dafür', 'dagegen', 'daher', 'dahin', 'dahingehend', 'dahingehende', 'dahingehendem', 'dahingehenden', 'dahingehender', 'dahingehendes', 'dahinter', 'damalige', 'damaligem', 'damaligen', 'damaliger', 'damaliges', 'damals', 'damit', 'danach', 'daneben', 'dank', 'danke', 'danken', 'dann', 'dannen', 'daran', 'darauf', 'daraus', 'darf', 'darfst', 'darin', 'darüber', 'darüberhinaus', 'darueber', 'darueberhinaus', 'darum', 'darunter', 'das', 'daß', 'dass', 'dasselbe', 'Dat', 'davon', 'davor', 'dazu', 'dazwischen', 'dein', 'deine', 'deinem', 'deinen', 'deiner', 'deines', 'dem', 'demgegenüber', 'demgegenueber', 'demgemaess', 'demgemäss', 'demnach', 'demselben', 'den', 'denen', 'denkbar', 'denkbare', 'denkbarem', 'denkbaren', 'denkbarer', 'denkbares', 'denn', 'dennoch', 'denselben', 'der', 'derart', 'derartig', 'derartige', 'derartigem', 'derartigen', 'derartiger', 'derem', 'deren', 'derer', 'derjenige', 'derjenigen', 'derselbe', 'derselben', 'derzeit', 'derzeitig', 'derzeitige', 'derzeitigem', 'derzeitigen', 'derzeitiges', 'des', 'deshalb', 'desselben', 'dessen', 'dessenungeachtet', 'desto', 'desungeachtet', 'deswegen', 'dich', 'die', 'diejenige', 'diejenigen', 'dies', 'diese', 'dieselbe', 'dieselben', 'diesem', 'diesen', 'dieser', 'dieses', 'diesseitig', 'diesseitige', 'diesseitigem', 'diesseitigen', 'diesseitiger', 'diesseitiges', 'diesseits', 'dinge', 'dir', 'direkt', 'direkte', 'direkten', 'direkter', 'doch', 'doppelt', 'dort', 'dorther', 'dorthin', 'dran', 'drauf', 'drei', 'dreißig', 'drin', 'dritte', 'drüber', 'drueber', 'drum', 'drunter', 'du', 'duerfte', 'duerften', 'duerftest', 'duerftet', 'dunklen', 'durch', 'durchaus', 'durchweg', 'durchwegs', 'dürfen', 'durfte', 'dürfte', 'durften', 'dürften', 'durftest', 'dürftest', 'durftet', 'dürftet', 'eben', 'ebenfalls', 'ebenso', 'ect', 'ect.', 'ehe', 'eher', 'eheste', 'ehestem', 'ehesten', 'ehester', 'ehestes', 'eigen', 'eigene', 'eigenem', 'eigenen', 'eigener', 'eigenes', 'eigenst', 'eigentlich', 'eigentliche', 'eigentlichem', 'eigentlichen', 'eigentlicher', 'eigentliches', 'ein', 'einbaün', 'eine', 'einem', 'einen', 'einer', 'einerlei', 'einerseits', 'eines', 'einfach', 'einführen', 'einführte', 'einführten', 'eingesetzt', 'einig', 'einige', 'einigem', 'einigen', 'einiger', 'einigermaßen', 'einiges', 'einmal', 'einmalig', 'einmalige', 'einmaligem', 'einmaligen', 'einmaliger', 'einmaliges', 'eins', 'einseitig', 'einseitige', 'einseitigen', 'einseitiger', 'einst', 'einstmals', 'einzig', 'empfunden', 'ende', 'entgegen', 'entlang', 'entsprechend', 'entsprechende', 'entsprechendem', 'entsprechenden', 'entsprechender', 'entsprechendes', 'entweder', 'er', 'ergänze', 'ergänzen', 'ergänzte', 'ergänzten', 'ergo', 'erhält', 'erhalten', 'erhielt', 'erhielten', 'erneut', 'eröffne', 'eröffnen', 'eröffnet', 'eröffnete', 'eröffnetes', 'erscheinen', 'erst', 'erste', 'erstem', 'ersten', 'erster', 'erstere', 'ersterem', 'ersteren', 'ersterer', 'ersteres', 'erstes', 'es', 'etc', 'etc.', 'etliche', 'etlichem', 'etlichen', 'etlicher', 'etliches', 'etwa', 'etwaige', 'etwas', 'euch', 'euer', 'eure', 'eurem', 'euren', 'eurer', 'eures', 'euretwegen', 'fall', 'falls', 'fand', 'fast', 'ferner', 'fertig', 'finde', 'finden', 'findest', 'findet', 'folgend', 'folgende', 'folgendem', 'folgenden', 'folgender', 'folgendermassen', 'folgendes', 'folglich', 'for', 'fordern', 'fordert', 'forderte', 'forderten', 'fort', 'fortsetzen', 'fortsetzt', 'fortsetzte', 'fortsetzten', 'fragte', 'frau', 'frei', 'freie', 'freier', 'freies', 'fuer', 'fuers', 'fünf', 'für', 'fürs', 'gab', 'gaenzlich', 'gaenzliche', 'gaenzlichem', 'gaenzlichen', 'gaenzlicher', 'gaenzliches', 'gängig', 'gängige', 'gängigen', 'gängiger', 'gängiges', 'ganz', 'ganze', 'ganzem', 'ganzen', 'ganzer', 'ganzes', 'gänzlich', 'gänzliche', 'gänzlichem', 'gänzlichen', 'gänzlicher', 'gänzliches', 'gar', 'gbr', 'geb', 'geben', 'geblieben', 'gebracht', 'gedurft', 'geehrt', 'geehrte', 'geehrten', 'geehrter', 'gefallen', 'gefälligst', 'gefällt', 'gefiel', 'gegeben', 'gegen', 'gegenüber', 'gegenueber', 'gehabt', 'gehalten', 'gehen', 'geht', 'gekommen', 'gekonnt', 'gemacht', 'gemaess', 'gemäss', 'gemeinhin', 'gemocht', 'genau', 'genommen', 'genug', 'gepriesener', 'gepriesenes', 'gerade', 'gern', 'gesagt', 'gesehen', 'gestern', 'gestrige', 'getan', 'geteilt', 'geteilte', 'getragen', 'getrennt', 'gewesen', 'gewiss', 'gewisse', 'gewissem', 'gewissen', 'gewisser', 'gewissermaßen', 'gewisses', 'gewollt', 'geworden', 'ggf', 'ggf.', 'gib', 'gibt', 'gilt', 'gleich', 'gleiche', 'gleichem', 'gleichen', 'gleicher', 'gleiches', 'gleichsam', 'gleichste', 'gleichstem', 'gleichsten', 'gleichster', 'gleichstes', 'gleichwohl', 'gleichzeitig', 'gleichzeitige', 'gleichzeitigem', 'gleichzeitigen', 'gleichzeitiger', 'gleichzeitiges', 'glücklicherweise', 'gluecklicherweise', 'gmbh', 'gottseidank', 'gratulieren', 'gratuliert', 'gratulierte', 'groesstenteils', 'grösstenteils', 'gruendlich', 'gründlich', 'gut', 'gute', 'guten', 'hab', 'habe', 'haben', 'habt', 'haette', 'haeufig', 'haeufige', 'haeufigem', 'haeufigen', 'haeufiger', 'haeufigere', 'haeufigeren', 'haeufigerer', 'haeufigeres', 'halb', 'hallo', 'halten', 'hast', 'hat', 'hätt', 'hatte', 'hätte', 'hatten', 'hätten', 'hattest', 'hattet', 'häufig', 'häufige', 'häufigem', 'häufigen', 'häufiger', 'häufigere', 'häufigeren', 'häufigerer', 'häufigeres', 'hen', 'her', 'heraus', 'herein', 'herum', 'heute', 'heutige', 'heutigem', 'heutigen', 'heutiger', 'heutiges', 'hier', 'hierbei', 'hiermit', 'hiesige', 'hiesigem', 'hiesigen', 'hiesiger', 'hiesiges', 'hin', 'hindurch', 'hinein', 'hingegen', 'hinlanglich', 'hinlänglich', 'hinten', 'hintendran', 'hinter', 'hinterher', 'hinterm', 'hintern', 'hinunter', 'hoch', 'höchst', 'höchstens', 'http', 'hundert', 'ich', 'igitt', 'ihm', 'ihn', 'ihnen', 'ihr', 'ihre', 'ihrem', 'ihren', 'ihrer', 'ihres', 'ihretwegen', 'ihrige', 'ihrigen', 'ihriges', 'im', 'immer', 'immerhin', 'immerwaehrend', 'immerwaehrende', 'immerwaehrendem', 'immerwaehrenden', 'immerwaehrender', 'immerwaehrendes', 'immerwährend', 'immerwährende', 'immerwährendem', 'immerwährenden', 'immerwährender', 'immerwährendes', 'immerzu', 'important', 'in', 'indem', 'indessen', 'Inf.', 'info', 'infolge', 'infolgedessen', 'information', 'innen', 'innerhalb', 'innerlich', 'ins', 'insbesondere', 'insgeheim', 'insgeheime', 'insgeheimer', 'insgesamt', 'insgesamte', 'insgesamter', 'insofern', 'inzwischen', 'irgend', 'irgendein', 'irgendeine', 'irgendeinem', 'irgendeiner', 'irgendeines', 'irgendetwas', 'irgendjemand', 'irgendjemandem', 'irgendwann', 'irgendwas', 'irgendwelche', 'irgendwen', 'irgendwenn', 'irgendwer', 'irgendwie', 'irgendwo', 'irgendwohin', 'ist', 'ja', 'jaehrig', 'jaehrige', 'jaehrigem', 'jaehrigen', 'jaehriger', 'jaehriges', 'jährig', 'jährige', 'jährigem', 'jährigen', 'jähriges', 'je', 'jede', 'jedem', 'jeden', 'jedenfalls', 'jeder', 'jederlei', 'jedes', 'jedesmal', 'jedoch', 'jeglichem', 'jeglichen', 'jeglicher', 'jegliches', 'jemals', 'jemand', 'jemandem', 'jemanden', 'jemandes', 'jene', 'jenem', 'jenen', 'jener', 'jenes', 'jenseitig', 'jenseitigem', 'jenseitiger', 'jenseits', 'jetzt', 'jung', 'junge', 'jungem', 'jungen', 'junger', 'junges', 'kaeumlich', 'kam', 'kann', 'kannst', 'kaum', 'käumlich', 'kein', 'keine', 'keinem', 'keinen', 'keiner', 'keinerlei', 'keines', 'keineswegs', 'klar', 'klare', 'klaren', 'klares', 'klein', 'kleinen', 'kleiner', 'kleines', 'koennen', 'koennt', 'koennte', 'koennten', 'koenntest', 'koenntet', 'komme', 'kommen', 'kommt', 'konkret', 'konkrete', 'konkreten', 'konkreter', 'konkretes', 'könn', 'können', 'könnt', 'konnte', 'könnte', 'konnten', 'könnten', 'konntest', 'könntest', 'konntet', 'könntet', 'kuenftig', 'kuerzlich', 'kuerzlichst', 'künftig', 'kürzlich', 'kürzlichst', 'laengst', 'lag', 'lagen', 'langsam', 'längst', 'längstens', 'lassen', 'laut', 'lediglich', 'leer', 'legen', 'legte', 'legten', 'leicht', 'leider', 'lesen', 'letze', 'letzte', 'letzten', 'letztendlich', 'letztens', 'letztere', 'letzterem', 'letzterer', 'letzteres', 'letztes', 'letztlich', 'lichten', 'liegt', 'liest', 'links', 'mache', 'machen', 'machst', 'macht', 'machte', 'machten', 'mag', 'magst', 'mal', 'man', 'manch', 'manche', 'manchem', 'manchen', 'mancher', 'mancherlei', 'mancherorts', 'manches', 'manchmal', 'mann', 'margin', 'massgebend', 'massgebende', 'massgebendem', 'massgebenden', 'massgebender', 'massgebendes', 'massgeblich', 'massgebliche', 'massgeblichem', 'massgeblichen', 'massgeblicher', 'mehr', 'mehrere', 'mehrerer', 'mehrfach', 'mehrmalig', 'mehrmaligem', 'mehrmaliger', 'mehrmaliges', 'mein', 'meine', 'meinem', 'meinen', 'meiner', 'meines', 'meinetwegen', 'meins', 'meist', 'meiste', 'meisten', 'meistens', 'meistenteils', 'meta', 'mich', 'mindestens', 'mir', 'mit', 'miteinander', 'mitgleich', 'mithin', 'mitnichten', 'mittels', 'mittelst', 'mitten', 'mittig', 'mitunter', 'mitwohl', 'mochte', 'möchte', 'möchten', 'möchtest', 'moechte', 'moeglich', 'moeglichst', 'moeglichste', 'moeglichstem', 'moeglichsten', 'moeglichster', 'mögen', 'möglich', 'mögliche', 'möglichen', 'möglicher', 'möglicherweise', 'möglichst', 'möglichste', 'möglichstem', 'möglichsten', 'möglichster', 'morgen', 'morgige', 'muessen', 'muesst', 'muesste', 'muss', 'müssen', 'musst', 'müßt', 'musste', 'müsste', 'mussten', 'müssten', 'nach', 'nachdem', 'nacher', 'nachher', 'nachhinein', 'nächste', 'nacht', 'naechste', 'naemlich', 'nahm', 'nämlich', 'naturgemaess', 'naturgemäss', 'natürlich', 'ncht', 'neben', 'nebenan', 'nehmen', 'nein', 'neu', 'neue', 'neuem', 'neuen', 'neuer', 'neuerdings', 'neuerlich', 'neuerliche', 'neuerlichem', 'neuerlicher', 'neuerliches', 'neues', 'neulich', 'neun', 'nicht', 'nichts', 'nichtsdestotrotz', 'nichtsdestoweniger', 'nie', 'niemals', 'niemand', 'niemandem', 'niemanden', 'niemandes', 'nimm', 'nimmer', 'nimmt', 'nirgends', 'nirgendwo', 'noch', 'noetigenfalls', 'nötigenfalls', 'nun', 'nur', 'nutzen', 'nutzt', 'nützt', 'nutzung', 'ob', 'oben', 'ober', 'oberen', 'oberer', 'oberhalb', 'oberste', 'obersten', 'oberster', 'obgleich', 'obs', 'obschon', 'obwohl', 'oder', 'oefter', 'oefters', 'off', 'offenkundig', 'offenkundige', 'offenkundigem', 'offenkundigen', 'offenkundiger', 'offenkundiges', 'offensichtlich', 'offensichtliche', 'offensichtlichem', 'offensichtlichen', 'offensichtlicher', 'offensichtliches', 'oft', 'öfter', 'öfters', 'oftmals', 'ohne', 'ohnedies', 'online', 'paar', 'partout', 'per', 'persoenlich', 'persoenliche', 'persoenlichem', 'persoenlicher', 'persoenliches', 'persönlich', 'persönliche', 'persönlicher', 'persönliches', 'pfui', 'ploetzlich', 'ploetzliche', 'ploetzlichem', 'ploetzlicher', 'ploetzliches', 'plötzlich', 'plötzliche', 'plötzlichem', 'plötzlicher', 'plötzliches', 'pro', 'quasi', 'reagiere', 'reagieren', 'reagiert', 'reagierte', 'recht', 'rechts', 'regelmäßig', 'reichlich', 'reichliche', 'reichlichem', 'reichlichen', 'reichlicher', 'restlos', 'restlose', 'restlosem', 'restlosen', 'restloser', 'restloses', 'richtiggehend', 'richtiggehende', 'richtiggehendem', 'richtiggehenden', 'richtiggehender', 'richtiggehendes', 'rief', 'rund', 'rundheraus', 'rundum', 'runter', 'sage', 'sagen', 'sagt', 'sagte', 'sagten', 'sagtest', 'sagtet', 'samt', 'sämtliche', 'sang', 'sangen', 'sattsam', 'schätzen', 'schätzt', 'schätzte', 'schätzten', 'scheinbar', 'scheinen', 'schlechter', 'schlicht', 'schlichtweg', 'schließlich', 'schlussendlich', 'schnell', 'schon', 'schreibe', 'schreiben', 'schreibens', 'schreiber', 'schwerlich', 'schwerliche', 'schwerlichem', 'schwerlichen', 'schwerlicher', 'schwerliches', 'schwierig', 'sechs', 'sect', 'sehe', 'sehen', 'sehr', 'sehrwohl', 'seht', 'sei', 'seid', 'seien', 'seiest', 'seiet', 'sein', 'seine', 'seinem', 'seinen', 'seiner', 'seines', 'seit', 'seitdem', 'seite', 'seiten', 'seither', 'selbe', 'selben', 'selber', 'selbst', 'selbstredend', 'selbstredende', 'selbstredendem', 'selbstredenden', 'selbstredender', 'selbstredendes', 'seltsamerweise', 'senke', 'senken', 'senkt', 'senkte', 'senkten', 'setzen', 'setzt', 'setzte', 'setzten', 'sich', 'sicher', 'sicherlich', 'sie', 'sieben', 'siebte', 'siehe', 'sieht', 'sind', 'singen', 'singt', 'so', 'sobald', 'sodaß', 'soeben', 'sofern', 'sofort', 'sog', 'sogar', 'sogleich', 'solange', 'solc', 'solc hen', 'solch', 'solche', 'solchem', 'solchen', 'solcher', 'solches', 'soll', 'sollen', 'sollst', 'sollt', 'sollte', 'sollten', 'solltest', 'solltet', 'somit', 'sondern', 'sonst', 'sonstig', 'sonstige', 'sonstigem', 'sonstiger', 'sonstwo', 'sooft', 'soviel', 'soweit', 'sowie', 'sowieso', 'sowohl', 'später', 'spielen', 'startet', 'startete', 'starteten', 'statt', 'stattdessen', 'steht', 'steige', 'steigen', 'steigt', 'stellenweise', 'stellenweisem', 'stellenweisen', 'stets', 'stieg', 'stiegen', 'such', 'suchen', 'tages', 'tat', 'tät', 'tatsächlich', 'tatsächlichen', 'tatsächlicher', 'tatsächliches', 'tatsaechlich', 'tatsaechlichen', 'tatsaechlicher', 'tatsaechliches', 'tausend', 'teile', 'teilen', 'teilte', 'teilten', 'tief', 'titel', 'toll', 'total', 'trage', 'tragen', 'trägt', 'trotzdem', 'trug', 'tun', 'tust', 'tut', 'txt', 'übel', 'über', 'überall', 'überallhin', 'überaus', 'überdies', 'überhaupt', 'überll', 'übermorgen', 'üblicherweise', 'übrig', 'übrigens', 'ueber', 'ueberall', 'ueberallhin', 'ueberaus', 'ueberdies', 'ueberhaupt', 'uebermorgen', 'ueblicherweise', 'uebrig', 'uebrigens', 'um', 'ums', 'umso', 'umstaendehalber', 'umständehalber', 'unbedingt', 'unbedingte', 'unbedingter', 'unbedingtes', 'und', 'unerhoert', 'unerhoerte', 'unerhoertem', 'unerhoerten', 'unerhoerter', 'unerhoertes', 'unerhört', 'unerhörte', 'unerhörtem', 'unerhörten', 'unerhörter', 'unerhörtes', 'ungefähr', 'ungemein', 'ungewoehnlich', 'ungewoehnliche', 'ungewoehnlichem', 'ungewoehnlichen', 'ungewoehnlicher', 'ungewoehnliches', 'ungewöhnlich', 'ungewöhnliche', 'ungewöhnlichem', 'ungewöhnlichen', 'ungewöhnlicher', 'ungewöhnliches', 'ungleich', 'ungleiche', 'ungleichem', 'ungleichen', 'ungleicher', 'ungleiches', 'unmassgeblich', 'unmassgebliche', 'unmassgeblichem', 'unmassgeblichen', 'unmassgeblicher', 'unmassgebliches', 'unmoeglich', 'unmoegliche', 'unmoeglichem', 'unmoeglichen', 'unmoeglicher', 'unmoegliches', 'unmöglich', 'unmögliche', 'unmöglichen', 'unmöglicher', 'unnötig', 'uns', 'unsaeglich', 'unsaegliche', 'unsaeglichem', 'unsaeglichen', 'unsaeglicher', 'unsaegliches', 'unsagbar', 'unsagbare', 'unsagbarem', 'unsagbaren', 'unsagbarer', 'unsagbares', 'unsäglich', 'unsägliche', 'unsäglichem', 'unsäglichen', 'unsäglicher', 'unsägliches', 'unse', 'unsem', 'unsen', 'unser', 'unsere', 'unserem', 'unseren', 'unserer', 'unseres', 'unserm', 'unses', 'unsre', 'unsrem', 'unsren', 'unsrer', 'unsres', 'unstreitig', 'unstreitige', 'unstreitigem', 'unstreitigen', 'unstreitiger', 'unstreitiges', 'unten', 'unter', 'unterbrach', 'unterbrechen', 'untere', 'unterem', 'unteres', 'unterhalb', 'unterste', 'unterster', 'unterstes', 'unwichtig', 'unzweifelhaft', 'unzweifelhafte', 'unzweifelhaftem', 'unzweifelhaften', 'unzweifelhafter', 'unzweifelhaftes', 'usw', 'usw.', 'vergangen', 'vergangene', 'vergangener', 'vergangenes', 'vermag', 'vermögen', 'vermutlich', 'vermutliche', 'vermutlichem', 'vermutlichen', 'vermutlicher', 'vermutliches', 'veröffentlichen', 'veröffentlicher', 'veröffentlicht', 'veröffentlichte', 'veröffentlichten', 'veröffentlichtes', 'verrate', 'verraten', 'verriet', 'verrieten', 'version', 'versorge', 'versorgen', 'versorgt', 'versorgte', 'versorgten', 'versorgtes', 'viel', 'viele', 'vielen', 'vieler', 'vielerlei', 'vieles', 'vielleicht', 'vielmalig', 'vielmals', 'vier', 'voellig', 'voellige', 'voelligem', 'voelligen', 'voelliger', 'voelliges', 'voelligst', 'vollends', 'völlig', 'völlige', 'völligem', 'völligen', 'völliger', 'völliges', 'völligst', 'vollstaendig', 'vollstaendige', 'vollstaendigem', 'vollstaendigen', 'vollstaendiger', 'vollstaendiges', 'vollständig', 'vollständige', 'vollständigem', 'vollständigen', 'vollständiger', 'vollständiges', 'vom', 'von', 'vor', 'voran', 'vorbei', 'vorgestern', 'vorher', 'vorherig', 'vorherige', 'vorherigem', 'vorheriger', 'vorne', 'vorüber', 'vorueber', 'wachen', 'waehrend', 'waehrenddessen', 'waere', 'während', 'währenddessen', 'wann', 'war', 'wär', 'wäre', 'waren', 'wären', 'warst', 'wart', 'warum', 'was', 'weder', 'weg', 'wegen', 'weil', 'weiß', 'weit', 'weiter', 'weitere', 'weiterem', 'weiteren', 'weiterer', 'weiteres', 'weiterhin', 'weitestgehend', 'weitestgehende', 'weitestgehendem', 'weitestgehenden', 'weitestgehender', 'weitestgehendes', 'weitgehend', 'weitgehende', 'weitgehendem', 'weitgehenden', 'weitgehender', 'weitgehendes', 'welche', 'welchem', 'welchen', 'welcher', 'welches', 'wem', 'wen', 'wenig', 'wenige', 'weniger', 'wenigstens', 'wenn', 'wenngleich', 'wer', 'werde', 'werden', 'werdet', 'weshalb', 'wessen', 'weswegen', 'wichtig', 'wie', 'wieder', 'wiederum', 'wieso', 'wieviel', 'wieviele', 'wievieler', 'wiewohl', 'will', 'willst', 'wir', 'wird', 'wirklich', 'wirklichem', 'wirklicher', 'wirkliches', 'wirst', 'wo', 'wobei', 'wodurch', 'wofuer', 'wofür', 'wogegen', 'woher', 'wohin', 'wohingegen', 'wohl', 'wohlgemerkt', 'wohlweislich', 'wolle', 'wollen', 'wollt', 'wollte', 'wollten', 'wolltest', 'wolltet', 'womit', 'womoeglich', 'womoegliche', 'womoeglichem', 'womoeglichen', 'womoeglicher', 'womoegliches', 'womöglich', 'womögliche', 'womöglichem', 'womöglichen', 'womöglicher', 'womögliches', 'woran', 'woraufhin', 'woraus', 'worden', 'worin', 'wuerde', 'wuerden', 'wuerdest', 'wuerdet', 'wurde', 'würde', 'wurden', 'würden', 'wurdest', 'würdest', 'wurdet', 'würdet', 'www', 'x', 'z.B.', 'zahlreich', 'zahlreichem', 'zahlreicher', 'zB', 'zb.', 'zehn', 'zeitweise', 'zeitweisem', 'zeitweisen', 'zeitweiser', 'ziehen', 'zieht', 'ziemlich', 'ziemliche', 'ziemlichem', 'ziemlichen', 'ziemlicher', 'ziemliches', 'zirka', 'zog', 'zogen', 'zu', 'zudem', 'zuerst', 'zufolge', 'zugleich', 'zuletzt', 'zum', 'zumal', 'zumeist', 'zumindest', 'zunächst', 'zunaechst', 'zur', 'zurück', 'zurueck', 'zusammen', 'zusehends', 'zuviel', 'zuviele', 'zuvieler', 'zuweilen', 'zwanzig', 'zwar', 'zwei', 'zweifelsfrei', 'zweifelsfreie', 'zweifelsfreiem', 'zweifelsfreien', 'zweifelsfreier', 'zweifelsfreies', 'zwischen', 'zwölf']\n"
     ]
    }
   ],
   "source": [
    "# Specify the path to your text file\n",
    "file_path = r\"C:\\A\\00Master\\Demo\\data acc\\german_stopwords_full.txt\"  # Replace with the actual file path\n",
    "\n",
    "# Initialize an empty list to store the lines\n",
    "iso_StopWord = []\n",
    "\n",
    "# Open the text file and read its contents\n",
    "with open(file_path, \"r\") as file:\n",
    "    for line in file:\n",
    "        # Append each line (stripped of leading/trailing whitespace) to the list\n",
    "        iso_StopWord.append(line.strip())\n",
    "\n",
    "# Print the list of lines\n",
    "print(iso_StopWord)\n"
   ]
  },
  {
   "cell_type": "markdown",
   "metadata": {},
   "source": [
    "# _______________________________________________________________________________________________________________________________________________________________________________________________________________________"
   ]
  },
  {
   "cell_type": "markdown",
   "metadata": {},
   "source": [
    "# <center><b>The Result  </b></center>"
   ]
  },
  {
   "cell_type": "code",
   "execution_count": 31,
   "metadata": {},
   "outputs": [
    {
     "name": "stdout",
     "output_type": "stream",
     "text": [
      "The numbers of the StopWords in SpaCy: 543\n",
      "The numbers of the StopWords in NLTK: 232\n",
      "The numbers of the StopWords in Gensim: 337\n",
      "The numbers of the StopWords in StopWords-ISO: 1853\n",
      "\n"
     ]
    }
   ],
   "source": [
    "print(\"The numbers of the StopWords in SpaCy: \" + str(len(stop_words_SpaCy)) + \"\\n\" +\n",
    "      \"The numbers of the StopWords in NLTK: \" + str(len(stop_words_NTLK)) + \"\\n\" +\n",
    "      \"The numbers of the StopWords in Gensim: \" + str(len(stop_words_Gensim)) + \"\\n\" +\n",
    "      \"The numbers of the StopWords in StopWords-ISO: \"+ str(len(iso_StopWord))  + \"\\n\" \n",
    "      )"
   ]
  }
 ],
 "metadata": {
  "kernelspec": {
   "display_name": "base",
   "language": "python",
   "name": "python3"
  },
  "language_info": {
   "codemirror_mode": {
    "name": "ipython",
    "version": 3
   },
   "file_extension": ".py",
   "mimetype": "text/x-python",
   "name": "python",
   "nbconvert_exporter": "python",
   "pygments_lexer": "ipython3",
   "version": "3.11.5"
  }
 },
 "nbformat": 4,
 "nbformat_minor": 2
}
